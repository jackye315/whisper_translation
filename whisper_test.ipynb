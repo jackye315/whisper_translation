{
 "cells": [
  {
   "cell_type": "code",
   "execution_count": 1,
   "metadata": {},
   "outputs": [
    {
     "name": "stderr",
     "output_type": "stream",
     "text": [
      "/Users/JackYe/Documents/RandomProjects/whisper_translation/env/lib/python3.8/site-packages/tqdm/auto.py:22: TqdmWarning: IProgress not found. Please update jupyter and ipywidgets. See https://ipywidgets.readthedocs.io/en/stable/user_install.html\n",
      "  from .autonotebook import tqdm as notebook_tqdm\n"
     ]
    }
   ],
   "source": [
    "import os\n",
    "import whisper\n",
    "import ffmpeg"
   ]
  },
  {
   "cell_type": "markdown",
   "metadata": {},
   "source": [
    "## Testing Whisper on Python"
   ]
  },
  {
   "cell_type": "code",
   "execution_count": 2,
   "metadata": {},
   "outputs": [
    {
     "name": "stderr",
     "output_type": "stream",
     "text": [
      "/Users/JackYe/Documents/RandomProjects/whisper_translation/env/lib/python3.8/site-packages/whisper/transcribe.py:78: UserWarning: FP16 is not supported on CPU; using FP32 instead\n",
      "  warnings.warn(\"FP16 is not supported on CPU; using FP32 instead\")\n"
     ]
    }
   ],
   "source": [
    "audio_file = \"/Users/JackYe/Documents/RandomProjects/whisper_translation/input_files/Michael Wong 光良 Fairy Tale 童话 Tong Hua [TubeRipper.com].m4a\"\n",
    "model = whisper.load_model(\"base\")\n",
    "result = model.transcribe(audio_file)\n",
    "result[\"text\"]"
   ]
  },
  {
   "cell_type": "markdown",
   "metadata": {},
   "source": [
    "## Run Whisper and add to video"
   ]
  },
  {
   "cell_type": "code",
   "execution_count": 2,
   "metadata": {},
   "outputs": [
    {
     "data": {
      "text/plain": [
       "\"\\nwhisper 'audio-file' --language 'audio-language' --task translate --output_dir 'output-path'\\n\""
      ]
     },
     "execution_count": 2,
     "metadata": {},
     "output_type": "execute_result"
    }
   ],
   "source": [
    "# Base Terminal command for translating\n",
    "\"\"\"\n",
    "whisper 'audio-file' --language 'audio-language' --task translate --output_dir 'output-path'\n",
    "\"\"\""
   ]
  },
  {
   "cell_type": "code",
   "execution_count": 6,
   "metadata": {},
   "outputs": [
    {
     "name": "stderr",
     "output_type": "stream",
     "text": [
      "/Users/JackYe/Documents/RandomProjects/whisper_translation/env/lib/python3.8/site-packages/whisper/transcribe.py:78: UserWarning: FP16 is not supported on CPU; using FP32 instead\n",
      "  warnings.warn(\"FP16 is not supported on CPU; using FP32 instead\")\n"
     ]
    },
    {
     "name": "stdout",
     "output_type": "stream",
     "text": [
      "[00:00.000 --> 00:06.000]  How long has it been since I've forgotten about you?\n",
      "[00:06.000 --> 00:13.000]  Tell me about your favorite story\n",
      "[00:13.000 --> 00:20.000]  I think of you very much\n",
      "[00:20.000 --> 00:26.000]  I think of you very much\n",
      "[00:26.000 --> 00:30.000]  I think of you very much\n",
      "[00:30.000 --> 00:34.000]  I start to panic\n",
      "[00:34.000 --> 00:41.000]  Did I do something wrong?\n",
      "[00:41.000 --> 00:45.000]  You cry and say to me\n",
      "[00:45.000 --> 00:49.000]  The pain is all lies\n",
      "[00:49.000 --> 00:55.000]  I can't be your prince\n",
      "[00:55.000 --> 00:59.000]  Maybe you don't understand\n",
      "[00:59.000 --> 01:03.000]  From the day you said you loved me\n",
      "[01:03.000 --> 01:10.000]  My sky is cold\n",
      "[01:10.000 --> 01:14.000]  I wish to become a fairy\n",
      "[01:14.000 --> 01:17.000]  The angel you love\n",
      "[01:17.000 --> 01:21.000]  Open your hands and become wings\n",
      "[01:21.000 --> 01:25.000]  To protect you\n",
      "[01:25.000 --> 01:27.000]  You have to believe\n",
      "[01:27.000 --> 01:32.000]  Believe that we will share the same story\n",
      "[01:32.000 --> 01:39.000]  Happiness and happiness are the ending\n",
      "[01:39.000 --> 01:49.000]  How long has it been since I've forgotten about you?\n",
      "[01:49.000 --> 01:53.000]  You cry and say to me\n",
      "[01:53.000 --> 01:56.000]  The pain is all lies\n",
      "[01:56.000 --> 02:03.000]  I can't be your prince\n",
      "[02:03.000 --> 02:07.000]  Maybe you don't understand\n",
      "[02:07.000 --> 02:10.000]  From the day you said you loved me\n",
      "[02:10.000 --> 02:17.000]  My sky is cold\n",
      "[02:17.000 --> 02:21.000]  I wish to become a fairy\n",
      "[02:21.000 --> 02:24.000]  The angel you love\n",
      "[02:24.000 --> 02:28.000]  Open your hands and become wings\n",
      "[02:28.000 --> 02:31.000]  To protect you\n",
      "[02:31.000 --> 02:34.000]  You have to believe\n",
      "[02:34.000 --> 02:39.000]  Believe that we will share the same story\n",
      "[02:39.000 --> 02:46.000]  Happiness and happiness are the ending\n",
      "[02:46.000 --> 02:50.000]  I want to become a fairy\n",
      "[02:50.000 --> 02:53.000]  The angel you love\n",
      "[02:53.000 --> 02:57.000]  Open your hands and become wings\n",
      "[02:57.000 --> 03:00.000]  To protect you\n",
      "[03:00.000 --> 03:04.000]  You have to believe\n",
      "[03:04.000 --> 03:08.000]  Believe that we will share the same story\n",
      "[03:08.000 --> 03:14.000]  Happiness and happiness are the ending\n",
      "[03:14.000 --> 03:18.000]  I will become a fairy\n",
      "[03:18.000 --> 03:21.000]  The angel you love\n",
      "[03:21.000 --> 03:25.000]  Open your hands and become wings\n",
      "[03:25.000 --> 03:28.000]  To protect you\n",
      "[03:28.000 --> 03:30.000]  You have to believe\n",
      "[03:30.000 --> 03:35.000]  Believe that we will share the same story\n",
      "[03:35.000 --> 03:43.000]  Happiness and happiness are the ending\n",
      "[03:43.000 --> 03:56.000]  I want to become a fairy\n",
      "[03:56.000 --> 03:59.000]  The angel you love\n",
      "[03:59.000 --> 04:04.000]  Open your hands and become wings\n",
      "[04:04.000 --> 04:08.000]  To protect you\n",
      "[04:08.000 --> 04:12.000]  You have to believe\n"
     ]
    },
    {
     "data": {
      "text/plain": [
       "0"
      ]
     },
     "execution_count": 6,
     "metadata": {},
     "output_type": "execute_result"
    }
   ],
   "source": [
    "audio_file = \"Michael Wong 光良 Fairy Tale 童话 Tong Hua.m4a\"\n",
    "video_file = \"Michael Wong 光良 Fairy Tale 童话 Tong Hua.mp4\"\n",
    "input_audio_path = f\"input_files/{audio_file}\"\n",
    "translate_output_path = \"translated_files/\"\n",
    "terminal_command = f\"whisper '{input_audio_path}' --language Chinese --task translate --output_dir '{translate_output_path}'\"\n",
    "os.system(terminal_command)"
   ]
  },
  {
   "cell_type": "code",
   "execution_count": 4,
   "metadata": {},
   "outputs": [],
   "source": [
    "inputVideoPath = f\"input_files/{video_file}\"\n",
    "inputSrtPath = f\"{translate_output_path}/{audio_file}.srt\"\n",
    "outputVideoPath = \"final_output/TongHua_english.mp4\""
   ]
  },
  {
   "cell_type": "code",
   "execution_count": 8,
   "metadata": {},
   "outputs": [
    {
     "name": "stderr",
     "output_type": "stream",
     "text": [
      "ffmpeg version 5.1.2 Copyright (c) 2000-2022 the FFmpeg developers\n",
      "  built with Apple clang version 14.0.0 (clang-1400.0.29.102)\n",
      "  configuration: --prefix=/usr/local/Cellar/ffmpeg/5.1.2 --enable-shared --enable-pthreads --enable-version3 --cc=clang --host-cflags= --host-ldflags= --enable-ffplay --enable-gnutls --enable-gpl --enable-libaom --enable-libbluray --enable-libdav1d --enable-libmp3lame --enable-libopus --enable-librav1e --enable-librist --enable-librubberband --enable-libsnappy --enable-libsrt --enable-libtesseract --enable-libtheora --enable-libvidstab --enable-libvmaf --enable-libvorbis --enable-libvpx --enable-libwebp --enable-libx264 --enable-libx265 --enable-libxml2 --enable-libxvid --enable-lzma --enable-libfontconfig --enable-libfreetype --enable-frei0r --enable-libass --enable-libopencore-amrnb --enable-libopencore-amrwb --enable-libopenjpeg --enable-libspeex --enable-libsoxr --enable-libzmq --enable-libzimg --disable-libjack --disable-indev=jack --enable-videotoolbox\n",
      "  libavutil      57. 28.100 / 57. 28.100\n",
      "  libavcodec     59. 37.100 / 59. 37.100\n",
      "  libavformat    59. 27.100 / 59. 27.100\n",
      "  libavdevice    59.  7.100 / 59.  7.100\n",
      "  libavfilter     8. 44.100 /  8. 44.100\n",
      "  libswscale      6.  7.100 /  6.  7.100\n",
      "  libswresample   4.  7.100 /  4.  7.100\n",
      "  libpostproc    56.  6.100 / 56.  6.100\n",
      "Input #0, mov,mp4,m4a,3gp,3g2,mj2, from 'input_files/Michael Wong 光良 Fairy Tale 童话 Tong Hua.mp4':\n",
      "  Metadata:\n",
      "    major_brand     : mp42\n",
      "    minor_version   : 0\n",
      "    compatible_brands: isommp42\n",
      "    creation_time   : 2019-12-16T04:30:02.000000Z\n",
      "  Duration: 00:04:05.99, start: 0.000000, bitrate: 272 kb/s\n",
      "  Stream #0:0[0x1](und): Video: h264 (Main) (avc1 / 0x31637661), yuv420p(tv, bt709, progressive), 1280x720 [SAR 1:1 DAR 16:9], 141 kb/s, 29.97 fps, 29.97 tbr, 30k tbn (default)\n",
      "    Metadata:\n",
      "      creation_time   : 2019-12-16T04:30:02.000000Z\n",
      "      handler_name    : ISO Media file produced by Google Inc. Created on: 12/15/2019.\n",
      "      vendor_id       : [0][0][0][0]\n",
      "  Stream #0:1[0x2](eng): Audio: aac (LC) (mp4a / 0x6134706D), 44100 Hz, stereo, fltp, 127 kb/s (default)\n",
      "    Metadata:\n",
      "      creation_time   : 2019-12-16T04:30:02.000000Z\n",
      "      handler_name    : ISO Media file produced by Google Inc. Created on: 12/15/2019.\n",
      "      vendor_id       : [0][0][0][0]\n",
      "[Parsed_subtitles_0 @ 0x7fb0d8937e00] libass API version: 0x1600000\n",
      "[Parsed_subtitles_0 @ 0x7fb0d8937e00] libass source: tarball: 0.16.0\n",
      "[Parsed_subtitles_0 @ 0x7fb0d8937e00] Shaper: FriBidi 1.0.12 (SIMPLE) HarfBuzz-ng 5.3.1 (COMPLEX)\n",
      "[Parsed_subtitles_0 @ 0x7fb0d8937e00] Using font provider coretext\n",
      "Stream mapping:\n",
      "  Stream #0:0 (h264) -> subtitles:default\n",
      "  Stream #0:1 (aac) -> concat\n",
      "  concat -> Stream #0:0 (aac)\n",
      "  concat -> Stream #0:1 (libx264)\n",
      "Press [q] to stop, [?] for help\n",
      "[Parsed_subtitles_0 @ 0x7fb0d880ab40] libass API version: 0x1600000\n",
      "[Parsed_subtitles_0 @ 0x7fb0d880ab40] libass source: tarball: 0.16.0\n",
      "[Parsed_subtitles_0 @ 0x7fb0d880ab40] Shaper: FriBidi 1.0.12 (SIMPLE) HarfBuzz-ng 5.3.1 (COMPLEX)\n",
      "[Parsed_subtitles_0 @ 0x7fb0d880ab40] Using font provider coretext\n",
      "[Parsed_subtitles_0 @ 0x7fb0d880ab40] fontselect: (Arial, 400, 0) -> /Library/Fonts/Microsoft/Arial.ttf, -1, ArialMT\n",
      "[libx264 @ 0x7fb0d8932ec0] using SAR=1/1\n",
      "[libx264 @ 0x7fb0d8932ec0] using cpu capabilities: MMX2 SSE2Fast SSSE3 SSE4.2 AVX FMA3 BMI2 AVX2\n",
      "[libx264 @ 0x7fb0d8932ec0] profile High, level 3.1, 4:2:0, 8-bit\n",
      "[libx264 @ 0x7fb0d8932ec0] 264 - core 164 r3095 baee400 - H.264/MPEG-4 AVC codec - Copyleft 2003-2022 - http://www.videolan.org/x264.html - options: cabac=1 ref=3 deblock=1:0:0 analyse=0x3:0x113 me=hex subme=7 psy=1 psy_rd=1.00:0.00 mixed_ref=1 me_range=16 chroma_me=1 trellis=1 8x8dct=1 cqm=0 deadzone=21,11 fast_pskip=1 chroma_qp_offset=-2 threads=6 lookahead_threads=1 sliced_threads=0 nr=0 decimate=1 interlaced=0 bluray_compat=0 constrained_intra=0 bframes=3 b_pyramid=2 b_adapt=1 b_bias=0 direct=1 weightb=1 open_gop=0 weightp=2 keyint=250 keyint_min=25 scenecut=40 intra_refresh=0 rc_lookahead=40 rc=crf mbtree=1 crf=23.0 qcomp=0.60 qpmin=0 qpmax=69 qpstep=4 ip_ratio=1.40 aq=1:1.00\n",
      "Output #0, mp4, to 'final_output/TongHua_english.mp4':\n",
      "  Metadata:\n",
      "    major_brand     : mp42\n",
      "    minor_version   : 0\n",
      "    compatible_brands: isommp42\n",
      "    encoder         : Lavf59.27.100\n",
      "  Stream #0:0: Audio: aac (LC) (mp4a / 0x6134706D), 44100 Hz, stereo, fltp, 128 kb/s\n",
      "    Metadata:\n",
      "      encoder         : Lavc59.37.100 aac\n",
      "  Stream #0:1: Video: h264 (avc1 / 0x31637661), yuv420p(tv, bt709, progressive), 1280x720 [SAR 1:1 DAR 16:9], q=2-31, 29.97 fps, 30k tbn\n",
      "    Metadata:\n",
      "      encoder         : Lavc59.37.100 libx264\n",
      "    Side data:\n",
      "      cpb: bitrate max/min/avg: 0/0/0 buffer size: 0 vbv_delay: N/A\n",
      "frame= 7372 fps= 62 q=-1.0 Lsize=   14369kB time=00:04:05.99 bitrate= 478.5kbits/s speed=2.06x    \n",
      "video:10252kB audio:3859kB subtitle:0kB other streams:0kB global headers:0kB muxing overhead: 1.835732%\n",
      "[aac @ 0x7fb0d8931e00] Qavg: 1220.433\n",
      "[libx264 @ 0x7fb0d8932ec0] frame I:30    Avg QP:13.76  size: 66333\n",
      "[libx264 @ 0x7fb0d8932ec0] frame P:2318  Avg QP:16.77  size:  3209\n",
      "[libx264 @ 0x7fb0d8932ec0] frame B:5024  Avg QP:25.30  size:   213\n",
      "[libx264 @ 0x7fb0d8932ec0] consecutive B-frames:  6.8%  5.6%  3.9% 83.7%\n",
      "[libx264 @ 0x7fb0d8932ec0] mb I  I16..4: 17.8% 41.9% 40.3%\n",
      "[libx264 @ 0x7fb0d8932ec0] mb P  I16..4:  0.7%  1.3%  0.6%  P16..4:  7.6%  2.1%  1.1%  0.0%  0.0%    skip:86.6%\n",
      "[libx264 @ 0x7fb0d8932ec0] mb B  I16..4:  0.0%  0.0%  0.0%  B16..8:  3.5%  0.2%  0.0%  direct: 0.1%  skip:96.2%  L0:46.1% L1:52.4% BI: 1.5%\n",
      "[libx264 @ 0x7fb0d8932ec0] 8x8 transform intra:47.5% inter:57.4%\n",
      "[libx264 @ 0x7fb0d8932ec0] coded y,uvDC,uvAC intra: 54.1% 41.4% 14.4% inter: 1.1% 0.9% 0.0%\n",
      "[libx264 @ 0x7fb0d8932ec0] i16 v,h,dc,p: 42% 29% 16% 13%\n",
      "[libx264 @ 0x7fb0d8932ec0] i8 v,h,dc,ddl,ddr,vr,hd,vl,hu: 38% 21% 26%  2%  2%  3%  2%  3%  4%\n",
      "[libx264 @ 0x7fb0d8932ec0] i4 v,h,dc,ddl,ddr,vr,hd,vl,hu: 39% 25% 14%  3%  4%  4%  4%  3%  3%\n",
      "[libx264 @ 0x7fb0d8932ec0] i8c dc,h,v,p: 52% 26% 19%  3%\n",
      "[libx264 @ 0x7fb0d8932ec0] Weighted P-Frames: Y:1.9% UV:0.9%\n",
      "[libx264 @ 0x7fb0d8932ec0] ref P L0: 72.8%  9.1% 13.2%  4.4%  0.4%\n",
      "[libx264 @ 0x7fb0d8932ec0] ref B L0: 69.0% 29.3%  1.7%\n",
      "[libx264 @ 0x7fb0d8932ec0] ref B L1: 96.1%  3.9%\n",
      "[libx264 @ 0x7fb0d8932ec0] kb/s:341.39\n"
     ]
    },
    {
     "data": {
      "text/plain": [
       "(None, None)"
      ]
     },
     "execution_count": 8,
     "metadata": {},
     "output_type": "execute_result"
    }
   ],
   "source": [
    "video = ffmpeg.input(inputVideoPath)\n",
    "audio = video.audio\n",
    "\n",
    "(ffmpeg\n",
    ".concat(video.filter(\"subtitles\", inputSrtPath), audio, v=1, a=1)\n",
    ".output(outputVideoPath)\n",
    ".run(overwrite_output=1))"
   ]
  },
  {
   "cell_type": "code",
   "execution_count": null,
   "metadata": {},
   "outputs": [],
   "source": []
  }
 ],
 "metadata": {
  "kernelspec": {
   "display_name": "Python 3.8.12 ('env': venv)",
   "language": "python",
   "name": "python3"
  },
  "language_info": {
   "codemirror_mode": {
    "name": "ipython",
    "version": 3
   },
   "file_extension": ".py",
   "mimetype": "text/x-python",
   "name": "python",
   "nbconvert_exporter": "python",
   "pygments_lexer": "ipython3",
   "version": "3.8.12"
  },
  "orig_nbformat": 4,
  "vscode": {
   "interpreter": {
    "hash": "d115b4c3602abe4e9425eb423fdf144fc97332c29bf1c74a6784fca2c26b17a1"
   }
  }
 },
 "nbformat": 4,
 "nbformat_minor": 2
}
